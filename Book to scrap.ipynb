{
 "cells": [
  {
   "cell_type": "code",
   "execution_count": 12,
   "id": "834fb5ae",
   "metadata": {},
   "outputs": [],
   "source": [
    "from bs4 import BeautifulSoup\n",
    "import requests"
   ]
  },
  {
   "cell_type": "code",
   "execution_count": 13,
   "id": "a7d26da5",
   "metadata": {},
   "outputs": [],
   "source": [
    "url = 'https://books.toscrape.com/catalogue/page-{}.html'\n",
    "books_page = [] "
   ]
  },
  {
   "cell_type": "code",
   "execution_count": 14,
   "id": "3fb0a3d1",
   "metadata": {},
   "outputs": [
    {
     "name": "stdout",
     "output_type": "stream",
     "text": [
      "Scraping page 1...\n",
      "Scraping page 2...\n",
      "Scraping page 3...\n",
      "Scraping page 4...\n",
      "Scraping page 5...\n",
      "Scraping page 6...\n",
      "Scraping page 7...\n",
      "Scraping page 8...\n",
      "Scraping page 9...\n",
      "Scraping page 10...\n",
      "Scraping page 11...\n",
      "Scraping page 12...\n",
      "Scraping page 13...\n",
      "Scraping page 14...\n",
      "Scraping page 15...\n",
      "Scraping page 16...\n",
      "Scraping page 17...\n",
      "Scraping page 18...\n",
      "Scraping page 19...\n",
      "Scraping page 20...\n",
      "Scraping page 21...\n",
      "Scraping page 22...\n",
      "Scraping page 23...\n",
      "Scraping page 24...\n",
      "Scraping page 25...\n",
      "Scraping page 26...\n",
      "Scraping page 27...\n",
      "Scraping page 28...\n",
      "Scraping page 29...\n",
      "Scraping page 30...\n",
      "Scraping page 31...\n",
      "Scraping page 32...\n",
      "Scraping page 33...\n",
      "Scraping page 34...\n",
      "Scraping page 35...\n",
      "Scraping page 36...\n",
      "Scraping page 37...\n",
      "Scraping page 38...\n",
      "Scraping page 39...\n",
      "Scraping page 40...\n",
      "Scraping page 41...\n",
      "Scraping page 42...\n",
      "Scraping page 43...\n",
      "Scraping page 44...\n",
      "Scraping page 45...\n",
      "Scraping page 46...\n",
      "Scraping page 47...\n",
      "Scraping page 48...\n",
      "Scraping page 49...\n",
      "Scraping page 50...\n"
     ]
    }
   ],
   "source": [
    "# Loop through the first 50 pages\n",
    "for page in range(1, 51):\n",
    "    print(f\"Scraping page {page}...\")\n",
    "    url = url.format(page)\n",
    "    response = requests.get(url)\n",
    "    \n",
    "    if response.status_code != 200:\n",
    "        print(f\"Failed to fetch page {page}\")\n",
    "        continue\n",
    "\n",
    "    soup = BeautifulSoup(response.text, 'html.parser')\n",
    "    books = soup.find_all('article', class_='product_pod')\n",
    "    \n",
    "    for book in books:\n",
    "        # Extract the book title\n",
    "        title = book.h3.a['title']\n",
    "        \n",
    "        # Extract the book price\n",
    "        price = book.find('p', class_='price_color').text.strip('Â£')\n",
    "        \n",
    "        # Extract the book rating\n",
    "        rating = book.find('p')['class'][1]\n",
    "        \n",
    "        # Extract the availability\n",
    "        availability = book.find('p', class_='instock availability').text.strip()\n",
    "        \n",
    "        # Append the data to the list\n",
    "        books_page.append({\n",
    "            \"Title\": title,\n",
    "            \"Price\": price,\n",
    "            \"Rating\": rating,\n",
    "            \"Availability\": availability\n",
    "        })\n"
   ]
  },
  {
   "cell_type": "code",
   "execution_count": 19,
   "id": "f3f2bcb2",
   "metadata": {},
   "outputs": [
    {
     "data": {
      "text/html": [
       "<div>\n",
       "<style scoped>\n",
       "    .dataframe tbody tr th:only-of-type {\n",
       "        vertical-align: middle;\n",
       "    }\n",
       "\n",
       "    .dataframe tbody tr th {\n",
       "        vertical-align: top;\n",
       "    }\n",
       "\n",
       "    .dataframe thead th {\n",
       "        text-align: right;\n",
       "    }\n",
       "</style>\n",
       "<table border=\"1\" class=\"dataframe\">\n",
       "  <thead>\n",
       "    <tr style=\"text-align: right;\">\n",
       "      <th></th>\n",
       "      <th>Title</th>\n",
       "      <th>Price</th>\n",
       "      <th>Rating</th>\n",
       "      <th>Availability</th>\n",
       "    </tr>\n",
       "  </thead>\n",
       "  <tbody>\n",
       "    <tr>\n",
       "      <th>0</th>\n",
       "      <td>A Light in the Attic</td>\n",
       "      <td>51.77</td>\n",
       "      <td>Three</td>\n",
       "      <td>In stock</td>\n",
       "    </tr>\n",
       "    <tr>\n",
       "      <th>1</th>\n",
       "      <td>Tipping the Velvet</td>\n",
       "      <td>53.74</td>\n",
       "      <td>One</td>\n",
       "      <td>In stock</td>\n",
       "    </tr>\n",
       "    <tr>\n",
       "      <th>2</th>\n",
       "      <td>Soumission</td>\n",
       "      <td>50.10</td>\n",
       "      <td>One</td>\n",
       "      <td>In stock</td>\n",
       "    </tr>\n",
       "    <tr>\n",
       "      <th>3</th>\n",
       "      <td>Sharp Objects</td>\n",
       "      <td>47.82</td>\n",
       "      <td>Four</td>\n",
       "      <td>In stock</td>\n",
       "    </tr>\n",
       "    <tr>\n",
       "      <th>4</th>\n",
       "      <td>Sapiens: A Brief History of Humankind</td>\n",
       "      <td>54.23</td>\n",
       "      <td>Five</td>\n",
       "      <td>In stock</td>\n",
       "    </tr>\n",
       "  </tbody>\n",
       "</table>\n",
       "</div>"
      ],
      "text/plain": [
       "                                   Title  Price Rating Availability\n",
       "0                   A Light in the Attic  51.77  Three     In stock\n",
       "1                     Tipping the Velvet  53.74    One     In stock\n",
       "2                             Soumission  50.10    One     In stock\n",
       "3                          Sharp Objects  47.82   Four     In stock\n",
       "4  Sapiens: A Brief History of Humankind  54.23   Five     In stock"
      ]
     },
     "execution_count": 19,
     "metadata": {},
     "output_type": "execute_result"
    }
   ],
   "source": [
    "import pandas as pd\n",
    "books_df = pd.DataFrame(books_page)\n",
    "books_df.head()"
   ]
  },
  {
   "cell_type": "code",
   "execution_count": 21,
   "id": "da849a1b",
   "metadata": {},
   "outputs": [
    {
     "data": {
      "text/plain": [
       "Index(['Title', 'Price', 'Rating', 'Availability'], dtype='object')"
      ]
     },
     "execution_count": 21,
     "metadata": {},
     "output_type": "execute_result"
    }
   ],
   "source": [
    "books_df.columns"
   ]
  },
  {
   "cell_type": "code",
   "execution_count": 24,
   "id": "368cea38",
   "metadata": {},
   "outputs": [
    {
     "name": "stdout",
     "output_type": "stream",
     "text": [
      "Number of books with a rating greater than three: 400\n"
     ]
    }
   ],
   "source": [
    "ratings = {    \"One\": 1,\n",
    "    \"Two\": 2,\n",
    "    \"Three\": 3,\n",
    "    \"Four\": 4,\n",
    "    \"Five\": 5}\n",
    "books_df['Numeric Rating'] = books_df['Rating'].map(ratings)\n",
    "high_rated_books = books_df[books_df['Numeric Rating'] > 3]\n",
    "num_high_rated_books = len(high_rated_books)\n",
    "print(f\"Number of books with a rating greater than three: {num_high_rated_books}\")"
   ]
  },
  {
   "cell_type": "code",
   "execution_count": 25,
   "id": "440f7ab4",
   "metadata": {},
   "outputs": [
    {
     "name": "stdout",
     "output_type": "stream",
     "text": [
      "Total number of books: 1000\n"
     ]
    }
   ],
   "source": [
    "total_books = len(books_df)\n",
    "print(f\"Total number of books: {total_books}\")"
   ]
  },
  {
   "cell_type": "code",
   "execution_count": 26,
   "id": "f3e9d529",
   "metadata": {},
   "outputs": [
    {
     "name": "stdout",
     "output_type": "stream",
     "text": [
      "Number of books with a rating lesser than three: 450\n"
     ]
    }
   ],
   "source": [
    "low_rated_books = books_df[books_df['Numeric Rating'] < 3]\n",
    "num_low_rated_books = len(low_rated_books)\n",
    "print(f\"Number of books with a rating lesser than three: {num_low_rated_books}\")"
   ]
  },
  {
   "cell_type": "code",
   "execution_count": 27,
   "id": "3e073288",
   "metadata": {},
   "outputs": [],
   "source": [
    "import matplotlib.pyplot as plt"
   ]
  },
  {
   "cell_type": "code",
   "execution_count": 33,
   "id": "bb733c87",
   "metadata": {},
   "outputs": [
    {
     "data": {
      "image/png": "[encoded data removed]",
      "text/plain": [
       "<Figure size 640x480 with 1 Axes>"
      ]
     },
     "metadata": {},
     "output_type": "display_data"
    }
   ],
   "source": [
    "books_df.plot.box()\n",
    "plt.show()"
   ]
  },
  {
   "cell_type": "code",
   "execution_count": 34,
   "id": "e0f38c60",
   "metadata": {},
   "outputs": [],
   "source": [
    "books_df['Price'] = books_df['Price'].astype(float)\n"
   ]
  },
  {
   "cell_type": "code",
   "execution_count": 35,
   "id": "baec7c4f",
   "metadata": {},
   "outputs": [],
   "source": [
    "books_df['Stock Count'] = books_df['Availability'].str.extract(r'(\\d+)').fillna(0).astype(int)\n"
   ]
  },
  {
   "cell_type": "code",
   "execution_count": 36,
   "id": "733d72c4",
   "metadata": {},
   "outputs": [
    {
     "data": {
      "text/plain": [
       "<Axes: title={'center': 'Price Distribution'}, ylabel='Frequency'>"
      ]
     },
     "execution_count": 36,
     "metadata": {},
     "output_type": "execute_result"
    },
    {
     "data": {
      "image/png": "[encoded data removed]",
      "text/plain": [
       "<Figure size 640x480 with 1 Axes>"
      ]
     },
     "metadata": {},
     "output_type": "display_data"
    }
   ],
   "source": [
    "books_df['Price'].plot.hist(bins=20, title='Price Distribution')\n"
   ]
  },
  {
   "cell_type": "code",
   "execution_count": 37,
   "id": "32348fc4",
   "metadata": {},
   "outputs": [
    {
     "name": "stdout",
     "output_type": "stream",
     "text": [
      "Rating\n",
      "One      300\n",
      "Four     200\n",
      "Five     200\n",
      "Three    150\n",
      "Two      150\n",
      "Name: count, dtype: int64\n"
     ]
    }
   ],
   "source": [
    "rating_counts = books_df['Rating'].value_counts()\n",
    "print(rating_counts)\n"
   ]
  },
  {
   "cell_type": "code",
   "execution_count": 38,
   "id": "530778b3",
   "metadata": {},
   "outputs": [
    {
     "name": "stdout",
     "output_type": "stream",
     "text": [
      "Rating\n",
      "Five     39.750000\n",
      "Four     31.105000\n",
      "One      40.018333\n",
      "Three    42.316667\n",
      "Two      36.830000\n",
      "Name: Price, dtype: float64\n"
     ]
    }
   ],
   "source": [
    "avg_price_by_rating = books_df.groupby('Rating')['Price'].mean()\n",
    "print(avg_price_by_rating)\n"
   ]
  },
  {
   "cell_type": "code",
   "execution_count": 39,
   "id": "e4d05bee",
   "metadata": {},
   "outputs": [
    {
     "name": "stdout",
     "output_type": "stream",
     "text": [
      "In stock: 0, Out of stock: 1000\n"
     ]
    }
   ],
   "source": [
    "in_stock = books_df[books_df['Stock Count'] > 0].shape[0]\n",
    "out_of_stock = books_df[books_df['Stock Count'] == 0].shape[0]\n",
    "print(f\"In stock: {in_stock}, Out of stock: {out_of_stock}\")\n"
   ]
  },
  {
   "cell_type": "code",
   "execution_count": 40,
   "id": "b8dbd3a3",
   "metadata": {},
   "outputs": [],
   "source": [
    "bins = [0, 10, 20, 50, 100]\n",
    "labels = ['Cheap', 'Affordable', 'Expensive', 'Luxury']\n",
    "books_df['Price Category'] = pd.cut(books_df['Price'], bins=bins, labels=labels)\n"
   ]
  },
  {
   "cell_type": "code",
   "execution_count": 41,
   "id": "498d5aed",
   "metadata": {},
   "outputs": [],
   "source": [
    "books_df['Is Available'] = books_df['Stock Count'] > 0\n"
   ]
  },
  {
   "cell_type": "code",
   "execution_count": 42,
   "id": "f4942ee0",
   "metadata": {},
   "outputs": [
    {
     "data": {
      "text/plain": [
       "<Axes: xlabel='Rating', ylabel='Price'>"
      ]
     },
     "execution_count": 42,
     "metadata": {},
     "output_type": "execute_result"
    },
    {
     "data": {
      "image/png": "[encoded data removed]",
      "text/plain": [
       "<Figure size 640x480 with 1 Axes>"
      ]
     },
     "metadata": {},
     "output_type": "display_data"
    }
   ],
   "source": [
    "import seaborn as sns\n",
    "sns.boxplot(x='Rating', y='Price', data=books_df)\n"
   ]
  },
  {
   "cell_type": "code",
   "execution_count": 43,
   "id": "35eac3a5",
   "metadata": {},
   "outputs": [
    {
     "data": {
      "text/plain": [
       "<Axes: title={'center': 'Books by Price Category'}, xlabel='Price Category'>"
      ]
     },
     "execution_count": 43,
     "metadata": {},
     "output_type": "execute_result"
    },
    {
     "data": {
      "image/png": "[encoded data removed]",
      "text/plain": [
       "<Figure size 640x480 with 1 Axes>"
      ]
     },
     "metadata": {},
     "output_type": "display_data"
    }
   ],
   "source": [
    "books_df['Price Category'].value_counts().plot(kind='bar', title='Books by Price Category')\n"
   ]
  },
  {
   "cell_type": "code",
   "execution_count": 46,
   "id": "aedd1fce",
   "metadata": {},
   "outputs": [],
   "source": [
    "books_df.to_csv('books.csv', index=False)\n"
   ]
  },
  {
   "cell_type": "code",
   "execution_count": null,
   "id": "e419b149",
   "metadata": {},
   "outputs": [],
   "source": []
  }
 ],
 "metadata": {
  "kernelspec": {
   "display_name": "Python 3 (ipykernel)",
   "language": "python",
   "name": "python3"
  },
  "language_info": {
   "codemirror_mode": {
    "name": "ipython",
    "version": 3
   },
   "file_extension": ".py",
   "mimetype": "text/x-python",
   "name": "python",
   "nbconvert_exporter": "python",
   "pygments_lexer": "ipython3",
   "version": "3.11.5"
  }
 },
 "nbformat": 4,
 "nbformat_minor": 5
}
